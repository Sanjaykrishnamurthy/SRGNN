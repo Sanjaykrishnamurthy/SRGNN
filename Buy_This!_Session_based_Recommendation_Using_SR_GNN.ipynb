{
  "cells": [
    {
      "cell_type": "markdown",
      "source": [
        "# 👋 Buy This!: Session-based Recommendation Using SR-GNN\n",
        "\n",
        "Hi! This is the notebook for [the Medium tutorial](https://medium.com/@eunjeelynnsung/buy-this-session-based-recommendation-using-sr-gnn-d3415e393722) created for Stanford 2021 Fall CS224W class. If you have any questions, please email `ejsung [at] stanford.edu`.\n",
        "\n",
        "I referred to following code bases while writing the code below.\n",
        "\n",
        "- https://colab.research.google.com/drive/1X4uOWv_xkefDu_h-pbJg-fEkMfR7NGz9?usp=sharing\n",
        "- https://github.com/userbehavioranalysis/SR-GNN_PyTorch-Geometric\n",
        "- https://rzykov.github.io/notebooks/RetailRocketDatasetNextClick.html\n"
      ],
      "metadata": {
        "id": "Nz4R5b30g5tT"
      }
    },
    {
      "cell_type": "markdown",
      "source": [
        "# 👀 How to Use This Notebook\n",
        "\n",
        "1. Download the original dataset from [here](https://www.kaggle.com/retailrocket/ecommerce-dataset).\n",
        "\n",
        "2. Upload the `events.csv` file to the file system.\n",
        "\n",
        "3. Make a folder called `raw` in the same directory.\n",
        "\n",
        "4. Run the cells below!"
      ],
      "metadata": {
        "id": "shfWKr0_ht4f"
      }
    },
    {
      "cell_type": "markdown",
      "metadata": {
        "id": "WIjdpIpL6hog"
      },
      "source": [
        "# ⚙️ Set Up"
      ]
    },
    {
      "cell_type": "code",
      "execution_count": null,
      "metadata": {
        "colab": {
          "base_uri": "https://localhost:8080/"
        },
        "id": "qPhXYVKO5qou",
        "outputId": "444e9569-47fb-48ac-8734-caf8bf6f4e82"
      },
      "outputs": [
        {
          "output_type": "stream",
          "name": "stdout",
          "text": [
            "Looking in links: https://data.pyg.org/whl/torch-1.10.0+cu113.html\n",
            "Collecting torch-scatter\n",
            "  Downloading https://data.pyg.org/whl/torch-1.10.0%2Bcu113/torch_scatter-2.0.9-cp37-cp37m-linux_x86_64.whl (7.9 MB)\n",
            "\u001b[K     |████████████████████████████████| 7.9 MB 233 kB/s \n",
            "\u001b[?25hInstalling collected packages: torch-scatter\n",
            "Successfully installed torch-scatter-2.0.9\n",
            "Looking in links: https://data.pyg.org/whl/torch-1.10.0+cu113.html\n",
            "Collecting torch-sparse\n",
            "  Downloading https://data.pyg.org/whl/torch-1.10.0%2Bcu113/torch_sparse-0.6.12-cp37-cp37m-linux_x86_64.whl (3.5 MB)\n",
            "\u001b[K     |████████████████████████████████| 3.5 MB 12.1 MB/s \n",
            "\u001b[?25hRequirement already satisfied: scipy in /usr/local/lib/python3.7/dist-packages (from torch-sparse) (1.4.1)\n",
            "Requirement already satisfied: numpy>=1.13.3 in /usr/local/lib/python3.7/dist-packages (from scipy->torch-sparse) (1.19.5)\n",
            "Installing collected packages: torch-sparse\n",
            "Successfully installed torch-sparse-0.6.12\n",
            "Collecting torch-geometric\n",
            "  Downloading torch_geometric-2.0.2.tar.gz (325 kB)\n",
            "\u001b[K     |████████████████████████████████| 325 kB 15.5 MB/s \n",
            "\u001b[?25hRequirement already satisfied: numpy in /usr/local/lib/python3.7/dist-packages (from torch-geometric) (1.19.5)\n",
            "Requirement already satisfied: tqdm in /usr/local/lib/python3.7/dist-packages (from torch-geometric) (4.62.3)\n",
            "Requirement already satisfied: scipy in /usr/local/lib/python3.7/dist-packages (from torch-geometric) (1.4.1)\n",
            "Requirement already satisfied: networkx in /usr/local/lib/python3.7/dist-packages (from torch-geometric) (2.6.3)\n",
            "Requirement already satisfied: scikit-learn in /usr/local/lib/python3.7/dist-packages (from torch-geometric) (1.0.1)\n",
            "Requirement already satisfied: requests in /usr/local/lib/python3.7/dist-packages (from torch-geometric) (2.23.0)\n",
            "Requirement already satisfied: pandas in /usr/local/lib/python3.7/dist-packages (from torch-geometric) (1.1.5)\n",
            "Collecting rdflib\n",
            "  Downloading rdflib-6.0.2-py3-none-any.whl (407 kB)\n",
            "\u001b[K     |████████████████████████████████| 407 kB 55.9 MB/s \n",
            "\u001b[?25hRequirement already satisfied: googledrivedownloader in /usr/local/lib/python3.7/dist-packages (from torch-geometric) (0.4)\n",
            "Requirement already satisfied: jinja2 in /usr/local/lib/python3.7/dist-packages (from torch-geometric) (2.11.3)\n",
            "Requirement already satisfied: pyparsing in /usr/local/lib/python3.7/dist-packages (from torch-geometric) (3.0.6)\n",
            "Collecting yacs\n",
            "  Downloading yacs-0.1.8-py3-none-any.whl (14 kB)\n",
            "Requirement already satisfied: PyYAML in /usr/local/lib/python3.7/dist-packages (from torch-geometric) (3.13)\n",
            "Requirement already satisfied: MarkupSafe>=0.23 in /usr/local/lib/python3.7/dist-packages (from jinja2->torch-geometric) (2.0.1)\n",
            "Requirement already satisfied: python-dateutil>=2.7.3 in /usr/local/lib/python3.7/dist-packages (from pandas->torch-geometric) (2.8.2)\n",
            "Requirement already satisfied: pytz>=2017.2 in /usr/local/lib/python3.7/dist-packages (from pandas->torch-geometric) (2018.9)\n",
            "Requirement already satisfied: six>=1.5 in /usr/local/lib/python3.7/dist-packages (from python-dateutil>=2.7.3->pandas->torch-geometric) (1.15.0)\n",
            "Requirement already satisfied: setuptools in /usr/local/lib/python3.7/dist-packages (from rdflib->torch-geometric) (57.4.0)\n",
            "Collecting isodate\n",
            "  Downloading isodate-0.6.0-py2.py3-none-any.whl (45 kB)\n",
            "\u001b[K     |████████████████████████████████| 45 kB 4.4 MB/s \n",
            "\u001b[?25hRequirement already satisfied: urllib3!=1.25.0,!=1.25.1,<1.26,>=1.21.1 in /usr/local/lib/python3.7/dist-packages (from requests->torch-geometric) (1.24.3)\n",
            "Requirement already satisfied: chardet<4,>=3.0.2 in /usr/local/lib/python3.7/dist-packages (from requests->torch-geometric) (3.0.4)\n",
            "Requirement already satisfied: idna<3,>=2.5 in /usr/local/lib/python3.7/dist-packages (from requests->torch-geometric) (2.10)\n",
            "Requirement already satisfied: certifi>=2017.4.17 in /usr/local/lib/python3.7/dist-packages (from requests->torch-geometric) (2021.10.8)\n",
            "Requirement already satisfied: joblib>=0.11 in /usr/local/lib/python3.7/dist-packages (from scikit-learn->torch-geometric) (1.1.0)\n",
            "Requirement already satisfied: threadpoolctl>=2.0.0 in /usr/local/lib/python3.7/dist-packages (from scikit-learn->torch-geometric) (3.0.0)\n",
            "Building wheels for collected packages: torch-geometric\n",
            "  Building wheel for torch-geometric (setup.py) ... \u001b[?25l\u001b[?25hdone\n",
            "  Created wheel for torch-geometric: filename=torch_geometric-2.0.2-py3-none-any.whl size=535570 sha256=b163a349f4958fbd1c267760ffd49f98048e386b8a1ed1560fb441d6a2c1f6f7\n",
            "  Stored in directory: /root/.cache/pip/wheels/3f/08/13/2321517088bb2e95bfd0e45033bb9c923189e5b2078e0be4ef\n",
            "Successfully built torch-geometric\n",
            "Installing collected packages: isodate, yacs, rdflib, torch-geometric\n",
            "Successfully installed isodate-0.6.0 rdflib-6.0.2 torch-geometric-2.0.2 yacs-0.1.8\n",
            "  Building wheel for deepsnap (setup.py) ... \u001b[?25l\u001b[?25hdone\n"
          ]
        }
      ],
      "source": [
        "# Install torch geometric\n",
        "# Code taken from 2021 Fall CS224W Colab assignments.\n",
        "import os\n",
        "if 'IS_GRADESCOPE_ENV' not in os.environ:\n",
        "  !pip install torch-scatter -f https://data.pyg.org/whl/torch-1.10.0+cu113.html\n",
        "  !pip install torch-sparse -f https://data.pyg.org/whl/torch-1.10.0+cu113.html\n",
        "  !pip install torch-geometric\n",
        "  !pip install -q git+https://github.com/snap-stanford/deepsnap.git"
      ]
    },
    {
      "cell_type": "code",
      "source": [
        "# Import Python built-in libraries\n",
        "import copy\n",
        "import pickle\n",
        "import random\n",
        "import time"
      ],
      "metadata": {
        "id": "CRxB48iDiAF_"
      },
      "execution_count": null,
      "outputs": []
    },
    {
      "cell_type": "code",
      "source": [
        "# Import pip libraries\n",
        "import matplotlib.pyplot as plt\n",
        "import numpy as np\n",
        "import pandas as pd\n",
        "from tqdm import tqdm, trange\n",
        "\n",
        "# Import torch packages\n",
        "import torch\n",
        "import torch.nn as nn\n",
        "import torch.nn.functional as F\n",
        "import torch.optim as optim\n",
        "from torch.utils import data\n",
        "\n",
        "# Import PyG packages\n",
        "import torch_geometric as pyg\n",
        "import torch_geometric.data as pyg_data\n",
        "from torch_geometric.typing import Adj, OptTensor\n",
        "import torch_sparse"
      ],
      "metadata": {
        "id": "HGQ13SWwiHRl"
      },
      "execution_count": null,
      "outputs": []
    },
    {
      "cell_type": "markdown",
      "metadata": {
        "id": "DYrSfhkh6nIc"
      },
      "source": [
        "# ⚗️ Data Preprocessing"
      ]
    },
    {
      "cell_type": "markdown",
      "metadata": {
        "id": "MKM4wAYG9ssq"
      },
      "source": [
        "## Download\n",
        "\n",
        "You can download the data from 🔗[this kaggle competition](https://www.kaggle.com/retailrocket/ecommerce-dataset). We will only use the `events.csv` file.\n",
        "\n",
        "## Inspection\n",
        "\n",
        "Let's have a look at the dataset."
      ]
    },
    {
      "cell_type": "code",
      "execution_count": null,
      "metadata": {
        "colab": {
          "base_uri": "https://localhost:8080/"
        },
        "id": "Pn79u2Vc7Bi7",
        "outputId": "ce272ec1-7db4-4cfc-faba-faa30eac555b"
      },
      "outputs": [
        {
          "output_type": "stream",
          "name": "stdout",
          "text": [
            "       timestamp  visitorid event  itemid  transactionid\n",
            "0  1433221332117     257597  view  355908            NaN\n",
            "1  1433224214164     992329  view  248676            NaN\n",
            "2  1433221999827     111016  view  318965            NaN\n",
            "3  1433221955914     483717  view  253185            NaN\n",
            "4  1433221337106     951259  view  367447            NaN\n",
            "There are 2756101 rows in the raw data.\n"
          ]
        }
      ],
      "source": [
        "# Load and have a peek into the dataset\n",
        "events_df = pd.read_csv('events.csv')\n",
        "print(events_df.head())\n",
        "print(f'There are {len(events_df)} rows in the raw data.')"
      ]
    },
    {
      "cell_type": "code",
      "execution_count": null,
      "metadata": {
        "colab": {
          "base_uri": "https://localhost:8080/",
          "height": 300
        },
        "id": "oD7SEiObBC8x",
        "outputId": "2da03646-d30b-4b1b-b83c-a22227b341d2"
      },
      "outputs": [
        {
          "output_type": "execute_result",
          "data": {
            "text/html": [
              "<div>\n",
              "<style scoped>\n",
              "    .dataframe tbody tr th:only-of-type {\n",
              "        vertical-align: middle;\n",
              "    }\n",
              "\n",
              "    .dataframe tbody tr th {\n",
              "        vertical-align: top;\n",
              "    }\n",
              "\n",
              "    .dataframe thead th {\n",
              "        text-align: right;\n",
              "    }\n",
              "</style>\n",
              "<table border=\"1\" class=\"dataframe\">\n",
              "  <thead>\n",
              "    <tr style=\"text-align: right;\">\n",
              "      <th></th>\n",
              "      <th>timestamp</th>\n",
              "      <th>visitorid</th>\n",
              "      <th>itemid</th>\n",
              "      <th>transactionid</th>\n",
              "    </tr>\n",
              "  </thead>\n",
              "  <tbody>\n",
              "    <tr>\n",
              "      <th>count</th>\n",
              "      <td>2.756101e+06</td>\n",
              "      <td>2.756101e+06</td>\n",
              "      <td>2.756101e+06</td>\n",
              "      <td>22457.000000</td>\n",
              "    </tr>\n",
              "    <tr>\n",
              "      <th>mean</th>\n",
              "      <td>1.436424e+12</td>\n",
              "      <td>7.019229e+05</td>\n",
              "      <td>2.349225e+05</td>\n",
              "      <td>8826.497796</td>\n",
              "    </tr>\n",
              "    <tr>\n",
              "      <th>std</th>\n",
              "      <td>3.366312e+09</td>\n",
              "      <td>4.056875e+05</td>\n",
              "      <td>1.341954e+05</td>\n",
              "      <td>5098.996290</td>\n",
              "    </tr>\n",
              "    <tr>\n",
              "      <th>min</th>\n",
              "      <td>1.430622e+12</td>\n",
              "      <td>0.000000e+00</td>\n",
              "      <td>3.000000e+00</td>\n",
              "      <td>0.000000</td>\n",
              "    </tr>\n",
              "    <tr>\n",
              "      <th>25%</th>\n",
              "      <td>1.433478e+12</td>\n",
              "      <td>3.505660e+05</td>\n",
              "      <td>1.181200e+05</td>\n",
              "      <td>4411.000000</td>\n",
              "    </tr>\n",
              "    <tr>\n",
              "      <th>50%</th>\n",
              "      <td>1.436453e+12</td>\n",
              "      <td>7.020600e+05</td>\n",
              "      <td>2.360670e+05</td>\n",
              "      <td>8813.000000</td>\n",
              "    </tr>\n",
              "    <tr>\n",
              "      <th>75%</th>\n",
              "      <td>1.439225e+12</td>\n",
              "      <td>1.053437e+06</td>\n",
              "      <td>3.507150e+05</td>\n",
              "      <td>13224.000000</td>\n",
              "    </tr>\n",
              "    <tr>\n",
              "      <th>max</th>\n",
              "      <td>1.442545e+12</td>\n",
              "      <td>1.407579e+06</td>\n",
              "      <td>4.668670e+05</td>\n",
              "      <td>17671.000000</td>\n",
              "    </tr>\n",
              "  </tbody>\n",
              "</table>\n",
              "</div>"
            ],
            "text/plain": [
              "          timestamp     visitorid        itemid  transactionid\n",
              "count  2.756101e+06  2.756101e+06  2.756101e+06   22457.000000\n",
              "mean   1.436424e+12  7.019229e+05  2.349225e+05    8826.497796\n",
              "std    3.366312e+09  4.056875e+05  1.341954e+05    5098.996290\n",
              "min    1.430622e+12  0.000000e+00  3.000000e+00       0.000000\n",
              "25%    1.433478e+12  3.505660e+05  1.181200e+05    4411.000000\n",
              "50%    1.436453e+12  7.020600e+05  2.360670e+05    8813.000000\n",
              "75%    1.439225e+12  1.053437e+06  3.507150e+05   13224.000000\n",
              "max    1.442545e+12  1.407579e+06  4.668670e+05   17671.000000"
            ]
          },
          "metadata": {},
          "execution_count": 7
        }
      ],
      "source": [
        "# Print the summarized statistics of the dataset\n",
        "events_df.describe()"
      ]
    },
    {
      "cell_type": "code",
      "execution_count": null,
      "metadata": {
        "colab": {
          "base_uri": "https://localhost:8080/"
        },
        "id": "WLaXTMI3TqYe",
        "outputId": "08195d20-6311-471a-9882-c8177afd2c53"
      },
      "outputs": [
        {
          "output_type": "execute_result",
          "data": {
            "text/plain": [
              "466867"
            ]
          },
          "metadata": {},
          "execution_count": 8
        }
      ],
      "source": [
        "# Check the maximum unique id of items.\n",
        "# We will use this as the total number of items to create item embeddings.\n",
        "max(events_df['itemid'])"
      ]
    },
    {
      "cell_type": "markdown",
      "metadata": {
        "id": "VNke6VEX-Tp1"
      },
      "source": [
        "## Separating log data into sessions\n",
        "\n",
        "Let's load and break all log data into sessions for all users. Note that these preprocessing logics were taken from [here](https://rzykov.github.io/notebooks/RetailRocketDatasetNextClick.html) where the code is written in Scala.\n",
        "\n",
        "Summary of what we do in the cell below:\n",
        "\n",
        "1. Filter only the 'view' events. Among the three types of events provided by the dataset, we will only use the 'view' events to predict and recommend the next 'viewed' item.\n",
        "2. Filter out visitors with single clicks.\n",
        "3. Group events by visitor id.\n",
        "4. Within the grouped events from a visitor, break and generate sessions"
      ]
    },
    {
      "cell_type": "code",
      "execution_count": null,
      "metadata": {
        "colab": {
          "base_uri": "https://localhost:8080/"
        },
        "id": "36yeTCZ6-O6_",
        "outputId": "13cc5f9b-713f-4b8c-b511-f38ba64eb05c"
      },
      "outputs": [
        {
          "output_type": "stream",
          "name": "stdout",
          "text": [
            "There are 2664312 `view` events in the raw data.\n"
          ]
        }
      ],
      "source": [
        "# Filter only the 'view' events.\n",
        "events_df_filtered = events_df[events_df['event'] == 'view']\n",
        "print(f'There are {len(events_df_filtered)} `view` events in the raw data.')"
      ]
    },
    {
      "cell_type": "code",
      "execution_count": null,
      "metadata": {
        "id": "72rxoxUqBT3J"
      },
      "outputs": [],
      "source": [
        "# Filter out visitors with single clicks.\n",
        "visit_counts_per_visitor = events_df_filtered['visitorid'].value_counts(dropna=False)\n",
        "visit_counts_per_visitor.head()\n",
        "\n",
        "visitors_with_significant_visits = visit_counts_per_visitor[\n",
        "    visit_counts_per_visitor > 1\n",
        "].index\n",
        "events_df_filtered = events_df_filtered[\n",
        "    events_df_filtered['visitorid'].isin(visitors_with_significant_visits)]"
      ]
    },
    {
      "cell_type": "code",
      "execution_count": null,
      "metadata": {
        "colab": {
          "base_uri": "https://localhost:8080/"
        },
        "id": "jQDjX6S1D-nH",
        "outputId": "4767888e-6038-430b-e845-37c85e2080e9"
      },
      "outputs": [
        {
          "output_type": "stream",
          "name": "stderr",
          "text": [
            "1656582it [01:57, 14156.47it/s]"
          ]
        },
        {
          "output_type": "stream",
          "name": "stdout",
          "text": [
            "\n",
            "There are 396449 visitors left.\n"
          ]
        },
        {
          "output_type": "stream",
          "name": "stderr",
          "text": [
            "\n"
          ]
        }
      ],
      "source": [
        "# Let's group events and their timing data.\n",
        "visits_by_visitors = {}\n",
        "for _, row in enumerate(tqdm(events_df_filtered.iterrows())):\n",
        "    timestamp, visitorid, event, itemid, transactionid = row[1].values\n",
        "\n",
        "    if visitorid not in visits_by_visitors:\n",
        "        visits_by_visitors[visitorid] = {'itemids': [], 'timestamps': []}\n",
        "    visits_by_visitors[visitorid]['itemids'].append(itemid)\n",
        "    visits_by_visitors[visitorid]['timestamps'].append(timestamp)\n",
        "\n",
        "print()\n",
        "print(f'There are {len(visits_by_visitors)} visitors left.')"
      ]
    },
    {
      "cell_type": "code",
      "execution_count": null,
      "metadata": {
        "colab": {
          "base_uri": "https://localhost:8080/"
        },
        "id": "0YdCvwXpIpN6",
        "outputId": "8521cc03-1439-4861-de1d-6439833c77cc"
      },
      "outputs": [
        {
          "output_type": "stream",
          "name": "stdout",
          "text": [
            "\n",
            "There are 396449 sessions.\n"
          ]
        }
      ],
      "source": [
        "# We will separate sessions by 2 hours.\n",
        "delay = 2 * 3600 * 1000\n",
        "\n",
        "# Let's group events from visitors into sessions.\n",
        "sessions_by_visitors = {}\n",
        "for visitorid, visitor_dict in visits_by_visitors.items():\n",
        "    sessions = [[]]\n",
        "    events_sorted = sorted(zip(visitor_dict['timestamps'],\n",
        "                               visitor_dict['itemids']))\n",
        "    for i in range(len(events_sorted) - 1):\n",
        "        sessions[-1].append(events_sorted[i][1])\n",
        "        if (events_sorted[i+1][0] - events_sorted[i][0]) > delay:\n",
        "            sessions.append([])\n",
        "    sessions[-1].append(events_sorted[len(events_sorted) - 1][1])\n",
        "    sessions_by_visitors[visitorid] = sessions\n",
        "\n",
        "print()\n",
        "print(f'There are {len(sessions_by_visitors)} sessions.')"
      ]
    },
    {
      "cell_type": "markdown",
      "metadata": {
        "id": "Z4DjtBWb_sdR"
      },
      "source": [
        "## Splitting train and test dataset\n",
        "\n",
        "Now let's split the train, validation, and test dataset. We will split the dataset by user ids. Each user will only be found in one of the three splits! We split like this because the model may 'cheat' from partial sessions of a user during training and use that information during test time."
      ]
    },
    {
      "cell_type": "code",
      "execution_count": null,
      "metadata": {
        "id": "80Shzu4P-s_9"
      },
      "outputs": [],
      "source": [
        "# Adjsut sampling rate ([0, 1]) to generate smaller datasets.\n",
        "# Setting `sampling_rate` to 1 will lead to a full dataset split.\n",
        "sampling_rate = 1\n",
        "\n",
        "# We use random seed for reproducibility.\n",
        "seed = 42\n",
        "all_visitors = list(sessions_by_visitors.keys())\n",
        "random.Random(seed).shuffle(all_visitors)\n",
        "\n",
        "num_train = int(len(all_visitors) * 0.8 * sampling_rate)\n",
        "num_val = int(len(all_visitors) * 0.1 * sampling_rate)\n",
        "num_test = int(len(all_visitors) * 0.1 * sampling_rate)\n",
        "\n",
        "train_visitors = all_visitors[:num_train]\n",
        "val_visitors = all_visitors[num_train : num_train+num_val]\n",
        "test_visitors = all_visitors[num_train+num_val:num_train+num_val+num_test]"
      ]
    },
    {
      "cell_type": "markdown",
      "metadata": {
        "id": "WDJlaUbn_3Tf"
      },
      "source": [
        "Let's check the size of each split and pickle the preprocessed data."
      ]
    },
    {
      "cell_type": "code",
      "execution_count": null,
      "metadata": {
        "id": "vOt9UVcesil7"
      },
      "outputs": [],
      "source": [
        "def extract_subsessions(sessions):\n",
        "    \"\"\"Extracts all partial sessions from the sessions given.\n",
        "\n",
        "    For example, a session (1, 2, 3) should be augemnted to produce two\n",
        "    separate sessions (1, 2) and (1, 2, 3).\n",
        "    \"\"\"\n",
        "    all_sessions = []\n",
        "    for session in sessions:\n",
        "        for i in range(1, len(session)):\n",
        "            all_sessions.append(session[:i+1])\n",
        "    return all_sessions"
      ]
    },
    {
      "cell_type": "code",
      "execution_count": null,
      "metadata": {
        "colab": {
          "base_uri": "https://localhost:8080/"
        },
        "id": "dOTFciFbAHDl",
        "outputId": "58e5df20-4c5d-42f2-9d46-65ccb89d8f2f"
      },
      "outputs": [
        {
          "output_type": "stream",
          "name": "stdout",
          "text": [
            "train, val, and test visitors: (317159, 39644, 39644)\n"
          ]
        }
      ],
      "source": [
        "# Check the number of visitors in each split\n",
        "print(f'train, val, and test visitors: {len(train_visitors), len(val_visitors), len(test_visitors)}')\n",
        "\n",
        "# Get sessions of each visitor, generate subsessions of each session, and put\n",
        "# all the generated subsessions into right splits. We generate subsessions\n",
        "# according to the dataset generation policy suggested by the original SR-GNN\n",
        "# paper.\n",
        "train_sessions, val_sessions, test_sessions = [], [], []\n",
        "for visitor in train_visitors:\n",
        "    train_sessions.extend(extract_subsessions(sessions_by_visitors[visitor]))\n",
        "for visitor in val_visitors:\n",
        "    val_sessions.extend(extract_subsessions(sessions_by_visitors[visitor]))\n",
        "for visitor in test_visitors:\n",
        "    test_sessions.extend(extract_subsessions(sessions_by_visitors[visitor]))"
      ]
    },
    {
      "cell_type": "code",
      "execution_count": null,
      "metadata": {
        "colab": {
          "base_uri": "https://localhost:8080/"
        },
        "id": "sHNN9AV55P-v",
        "outputId": "7449f294-220e-449d-c0bd-deddb232fb15"
      },
      "outputs": [
        {
          "output_type": "stream",
          "name": "stdout",
          "text": [
            "train, val, and test sessions: (781928, 91317, 96896)\n"
          ]
        }
      ],
      "source": [
        "# Check the number of (sub)sessions in each split\n",
        "print(f'train, val, and test sessions: {len(train_sessions), len(val_sessions), len(test_sessions)}')\n",
        "\n",
        "# Save the processed files.\n",
        "with open('raw/train.txt', 'wb') as f:\n",
        "    pickle.dump(train_sessions, f)\n",
        "with open('raw/val.txt', 'wb') as f:\n",
        "    pickle.dump(val_sessions, f)\n",
        "with open('raw/test.txt', 'wb') as f:\n",
        "    pickle.dump(test_sessions, f)"
      ]
    },
    {
      "cell_type": "markdown",
      "metadata": {
        "id": "AK8wBmby8SWt"
      },
      "source": [
        "# 📦 Data Pipeline\n",
        "\n",
        "For data ingestion, we use PyTorch's `dataloader` and PyG's `Data` class. To learn more about the `Data` class, check out the documentation [here](https://pytorch-geometric.readthedocs.io/en/latest/modules/data.html#module-torch_geometric.data)."
      ]
    },
    {
      "cell_type": "code",
      "execution_count": null,
      "metadata": {
        "id": "82KWESLd-1gV"
      },
      "outputs": [],
      "source": [
        "class GraphDataset(pyg_data.InMemoryDataset):\n",
        "    def __init__(self, root, file_name, transform=None, pre_transform=None):\n",
        "        self.file_name = file_name\n",
        "        super().__init__(root, transform, pre_transform)\n",
        "        self.data, self.slices = torch.load(self.processed_paths[0])\n",
        "\n",
        "    @property\n",
        "    def raw_file_names(self):\n",
        "        return [f'{self.file_name}.txt']\n",
        "\n",
        "    @property\n",
        "    def processed_file_names(self):\n",
        "        return [f'{self.file_name}.pt']\n",
        "\n",
        "    def download(self):\n",
        "        pass\n",
        "\n",
        "    def process(self):\n",
        "        raw_data_file = f'{self.raw_dir}/{self.raw_file_names[0]}'\n",
        "        with open(raw_data_file, 'rb') as f:\n",
        "            sessions = pickle.load(f)\n",
        "        data_list = []\n",
        "\n",
        "        for session in sessions:\n",
        "            session, y = session[:-1], session[-1]\n",
        "            codes, uniques = pd.factorize(session)\n",
        "            senders, receivers = codes[:-1], codes[1:]\n",
        "\n",
        "            # Build Data instance\n",
        "            edge_index = torch.tensor([senders, receivers], dtype=torch.long)\n",
        "            x = torch.tensor(uniques, dtype=torch.long).unsqueeze(1)\n",
        "            y = torch.tensor([y], dtype=torch.long)\n",
        "            data_list.append(pyg_data.Data(x=x, edge_index=edge_index, y=y))\n",
        "\n",
        "        data, slices = self.collate(data_list)\n",
        "        torch.save((data, slices), self.processed_paths[0])"
      ]
    },
    {
      "cell_type": "markdown",
      "metadata": {
        "id": "GD9bwJaUCOge"
      },
      "source": [
        "# 🔮 Model Design\n",
        "\n",
        "Our gated session graph layer has two main parts: (1) message propagation to create an adjacency matrix (`self.propagate`) and (2) the GRU cell (`self.gru`). We will put these inside the `forward()` function.\n",
        "\n",
        "We only use one layer for our `GatedSessionGraphConv` implementation for simplicity. Also, our sessions have average length < 5, so we do not need a large receptive field."
      ]
    },
    {
      "cell_type": "code",
      "execution_count": null,
      "metadata": {
        "id": "7K3HWrcwqp0Z"
      },
      "outputs": [],
      "source": [
        "class GatedSessionGraphConv(pyg.nn.conv.MessagePassing):\n",
        "    def __init__(self, out_channels, aggr: str = 'add', **kwargs):\n",
        "        super().__init__(aggr=aggr, **kwargs)\n",
        "\n",
        "        self.out_channels = out_channels\n",
        "\n",
        "        self.gru = torch.nn.GRUCell(out_channels, out_channels, bias=False)\n",
        "\n",
        "    def forward(self, x, edge_index):\n",
        "        m = self.propagate(edge_index, x=x, size=None)\n",
        "        x = self.gru(m, x)\n",
        "        return x\n",
        "\n",
        "    def message(self, x_j):\n",
        "        return x_j\n",
        "\n",
        "    def message_and_aggregate(self, adj_t, x):\n",
        "        return matmul(adj_t, x, reduce=self.aggr)"
      ]
    },
    {
      "cell_type": "code",
      "execution_count": null,
      "metadata": {
        "id": "TNsAHq8PCN3k"
      },
      "outputs": [],
      "source": [
        "class SRGNN(nn.Module):\n",
        "    def __init__(self, hidden_size, n_items):\n",
        "        super(SRGNN, self).__init__()\n",
        "        self.hidden_size = hidden_size\n",
        "        self.n_items = n_items\n",
        "\n",
        "        self.embedding = nn.Embedding(self.n_items, self.hidden_size)\n",
        "        self.gated = GatedSessionGraphConv(self.hidden_size)\n",
        "\n",
        "        self.q = nn.Linear(self.hidden_size, 1)\n",
        "        self.W_1 = nn.Linear(self.hidden_size, self.hidden_size, bias=False)\n",
        "        self.W_2 = nn.Linear(self.hidden_size, self.hidden_size)\n",
        "        self.W_3 = nn.Linear(2 * self.hidden_size, self.hidden_size, bias=False)\n",
        "\n",
        "    def reset_parameters(self):\n",
        "        stdv = 1.0 / math.sqrt(self.hidden_size)\n",
        "        for weight in self.parameters():\n",
        "            weight.data.uniform_(-stdv, stdv)\n",
        "\n",
        "    def forward(self, data):\n",
        "        x, edge_index, batch_map = data.x, data.edge_index, data.batch\n",
        "\n",
        "        # (0)\n",
        "        embedding = self.embedding(x).squeeze()\n",
        "\n",
        "        # (1)-(5)\n",
        "        v_i = self.gated(embedding, edge_index)\n",
        "\n",
        "        # Divide nodes by session\n",
        "        # For the detailed explanation of what is happening below, please refer\n",
        "        # to the Medium blog post.\n",
        "        sections = list(torch.bincount(batch_map).cpu())\n",
        "        v_i_split = torch.split(v_i, sections)\n",
        "\n",
        "        v_n, v_n_repeat = [], []\n",
        "        for session in v_i_split:\n",
        "            v_n.append(session[-1])\n",
        "            v_n_repeat.append(\n",
        "                session[-1].view(1, -1).repeat(session.shape[0], 1))\n",
        "        v_n, v_n_repeat = torch.stack(v_n), torch.cat(v_n_repeat, dim=0)\n",
        "\n",
        "        q1 = self.W_1(v_n_repeat)\n",
        "        q2 = self.W_2(v_i)\n",
        "\n",
        "        # (6)\n",
        "        alpha = self.q(F.sigmoid(q1 + q2))\n",
        "        s_g_split = torch.split(alpha * v_i, sections)\n",
        "\n",
        "        s_g = []\n",
        "        for session in s_g_split:\n",
        "            s_g_session = torch.sum(session, dim=0)\n",
        "            s_g.append(s_g_session)\n",
        "        s_g = torch.stack(s_g)\n",
        "\n",
        "        # (7)\n",
        "        s_l = v_n\n",
        "        s_h = self.W_3(torch.cat([s_l, s_g], dim=-1))\n",
        "\n",
        "        # (8)\n",
        "        z = torch.mm(self.embedding.weight, s_h.T).T\n",
        "        return z"
      ]
    },
    {
      "cell_type": "markdown",
      "metadata": {
        "id": "Qd0wGgxOAIoJ"
      },
      "source": [
        "# 🚂 Model Training\n",
        "\n",
        "We can now start model training. The training pipeline code below was originally taken from the 2021 Fall CS224W Colab assignments and then modified to fit the model."
      ]
    },
    {
      "cell_type": "code",
      "execution_count": null,
      "metadata": {
        "id": "5gMZqEW81HYj"
      },
      "outputs": [],
      "source": [
        "# Define the hyperparameters.\n",
        "# Code taken from 2021 Fall CS224W Colab assignments.\n",
        "args = {\n",
        "    'batch_size': 100,\n",
        "    'hidden_dim': 32,\n",
        "    'epochs': 100,\n",
        "    'l2_penalty': 0.00001,\n",
        "    'weight_decay': 0.1,\n",
        "    'step': 30,\n",
        "    'lr': 0.001,\n",
        "    'num_items': 466868}\n",
        "\n",
        "class objectview(object):\n",
        "    def __init__(self, d): \n",
        "        self.__dict__ = d\n",
        "\n",
        "args = objectview(args)"
      ]
    },
    {
      "cell_type": "code",
      "execution_count": null,
      "metadata": {
        "id": "8iVoTPoJAKkU"
      },
      "outputs": [],
      "source": [
        "def train(args):\n",
        "    # Prepare data pipeline\n",
        "    train_dataset = GraphDataset('./', 'train')\n",
        "    train_loader = pyg_data.DataLoader(train_dataset,\n",
        "                                       batch_size=args.batch_size,\n",
        "                                       shuffle=False,\n",
        "                                       drop_last=True)\n",
        "    val_dataset = GraphDataset('./', 'val')\n",
        "    val_loader = pyg_data.DataLoader(val_dataset,\n",
        "                                     batch_size=args.batch_size,\n",
        "                                     shuffle=False,\n",
        "                                     drop_last=True)\n",
        "\n",
        "    # Build model\n",
        "    model = SRGNN(args.hidden_dim, args.num_items).to('cuda')\n",
        "\n",
        "    # Get training components\n",
        "    optimizer = torch.optim.Adam(model.parameters(),\n",
        "                                 lr=args.lr,\n",
        "                                 weight_decay=args.l2_penalty)\n",
        "    scheduler = optim.lr_scheduler.StepLR(optimizer,\n",
        "                                          step_size=args.step,\n",
        "                                          gamma=args.weight_decay)\n",
        "    criterion = nn.CrossEntropyLoss()\n",
        "\n",
        "    # Train\n",
        "    losses = []\n",
        "    test_accs = []\n",
        "    top_k_accs = []\n",
        "\n",
        "    best_acc = 0\n",
        "    best_model = None\n",
        "\n",
        "    for epoch in range(args.epochs):\n",
        "        total_loss = 0\n",
        "        model.train()\n",
        "        for _, batch in enumerate(tqdm(train_loader)):\n",
        "            batch.to('cuda')\n",
        "            optimizer.zero_grad()\n",
        "\n",
        "            pred = model(batch)\n",
        "            label = batch.y\n",
        "            loss = criterion(pred, label)\n",
        "\n",
        "            loss.backward()\n",
        "            optimizer.step()\n",
        "            total_loss += loss.item() * batch.num_graphs\n",
        "\n",
        "        total_loss /= len(train_loader.dataset)\n",
        "        losses.append(total_loss)\n",
        "\n",
        "        scheduler.step()\n",
        "\n",
        "        if epoch % 1 == 0:\n",
        "          test_acc, top_k_acc = test(val_loader, model, is_validation=True)\n",
        "          print(test_acc)\n",
        "          test_accs.append(test_acc)\n",
        "          top_k_accs.append(top_k_acc)\n",
        "          if test_acc > best_acc:\n",
        "            best_acc = test_acc\n",
        "            best_model = copy.deepcopy(model)\n",
        "        else:\n",
        "          test_accs.append(test_accs[-1])\n",
        "  \n",
        "    return test_accs, top_k_accs, losses, best_model, best_acc, val_loader"
      ]
    },
    {
      "cell_type": "code",
      "execution_count": null,
      "metadata": {
        "id": "UTiJJ1pm0ks9"
      },
      "outputs": [],
      "source": [
        "def test(loader, test_model, is_validation=False, save_model_preds=False):\n",
        "    test_model.eval()\n",
        "\n",
        "    # Define K for Hit@K metrics.\n",
        "    k = 20\n",
        "    correct = 0\n",
        "    top_k_correct = 0\n",
        "\n",
        "    for _, data in enumerate(tqdm(loader)):\n",
        "        data.to('cuda')\n",
        "        with torch.no_grad():\n",
        "            # max(dim=1) returns values, indices tuple; only need indices\n",
        "            score = test_model(data)\n",
        "            pred = score.max(dim=1)[1]\n",
        "            label = data.y\n",
        "\n",
        "        if save_model_preds:\n",
        "          data = {}\n",
        "          data['pred'] = pred.view(-1).cpu().detach().numpy()\n",
        "          data['label'] = label.view(-1).cpu().detach().numpy()\n",
        "\n",
        "          df = pd.DataFrame(data=data)\n",
        "          # Save locally as csv\n",
        "          df.to_csv('pred.csv', sep=',', index=False)\n",
        "            \n",
        "        correct += pred.eq(label).sum().item()\n",
        "\n",
        "        # We calculate Hit@K accuracy only at test time.\n",
        "        if not is_validation:\n",
        "            score = score.cpu().detach().numpy()\n",
        "            for row in range(pred.size(0)):\n",
        "                top_k_pred = np.argpartition(score[row], -k)[-k:]\n",
        "                if label[row].item() in top_k_pred:\n",
        "                    top_k_correct += 1\n",
        "    \n",
        "    if not is_validation:\n",
        "        return correct / len(loader), top_k_correct / len(loader)\n",
        "    else:\n",
        "        return correct / len(loader), 0"
      ]
    },
    {
      "cell_type": "code",
      "execution_count": null,
      "metadata": {
        "colab": {
          "base_uri": "https://localhost:8080/",
          "height": 1000
        },
        "id": "pdNUqKJl1r35",
        "outputId": "260ba489-8fc2-4293-827b-1125b67fa348"
      },
      "outputs": [
        {
          "metadata": {
            "tags": null
          },
          "name": "stderr",
          "output_type": "stream",
          "text": [
            "Processing...\n",
            "/usr/local/lib/python3.7/dist-packages/ipykernel_launcher.py:30: UserWarning: Creating a tensor from a list of numpy.ndarrays is extremely slow. Please consider converting the list to a single numpy.ndarray with numpy.array() before converting to a tensor. (Triggered internally at  ../torch/csrc/utils/tensor_new.cpp:201.)\n",
            "Done!\n",
            "/usr/local/lib/python3.7/dist-packages/torch_geometric/deprecation.py:13: UserWarning: 'data.DataLoader' is deprecated, use 'loader.DataLoader' instead\n",
            "  warnings.warn(out)\n",
            "Processing...\n",
            "Done!\n",
            "  0%|          | 0/7819 [00:00<?, ?it/s]/usr/local/lib/python3.7/dist-packages/torch/nn/functional.py:1806: UserWarning: nn.functional.sigmoid is deprecated. Use torch.sigmoid instead.\n",
            "  warnings.warn(\"nn.functional.sigmoid is deprecated. Use torch.sigmoid instead.\")\n",
            "100%|██████████| 7819/7819 [04:13<00:00, 30.82it/s]\n",
            "100%|██████████| 913/913 [00:16<00:00, 53.99it/s]\n"
          ]
        },
        {
          "metadata": {
            "tags": null
          },
          "name": "stdout",
          "output_type": "stream",
          "text": [
            "12.874041621029573\n"
          ]
        },
        {
          "metadata": {
            "tags": null
          },
          "name": "stderr",
          "output_type": "stream",
          "text": [
            "100%|██████████| 7819/7819 [03:01<00:00, 42.98it/s]\n",
            "100%|██████████| 913/913 [00:09<00:00, 99.75it/s]\n"
          ]
        },
        {
          "metadata": {
            "tags": null
          },
          "name": "stdout",
          "output_type": "stream",
          "text": [
            "14.012048192771084\n"
          ]
        },
        {
          "metadata": {
            "tags": null
          },
          "name": "stderr",
          "output_type": "stream",
          "text": [
            "100%|██████████| 7819/7819 [03:01<00:00, 43.12it/s]\n",
            "100%|██████████| 913/913 [00:08<00:00, 102.69it/s]\n"
          ]
        },
        {
          "metadata": {
            "tags": null
          },
          "name": "stdout",
          "output_type": "stream",
          "text": [
            "15.364731653888281\n"
          ]
        },
        {
          "metadata": {
            "tags": null
          },
          "name": "stderr",
          "output_type": "stream",
          "text": [
            "100%|██████████| 7819/7819 [03:04<00:00, 42.49it/s]\n",
            "100%|██████████| 913/913 [00:09<00:00, 100.74it/s]\n"
          ]
        },
        {
          "metadata": {
            "tags": null
          },
          "name": "stdout",
          "output_type": "stream",
          "text": [
            "16.207009857612267\n"
          ]
        },
        {
          "metadata": {
            "tags": null
          },
          "name": "stderr",
          "output_type": "stream",
          "text": [
            "100%|██████████| 7819/7819 [03:01<00:00, 43.12it/s]\n",
            "100%|██████████| 913/913 [00:08<00:00, 101.69it/s]\n"
          ]
        },
        {
          "metadata": {
            "tags": null
          },
          "name": "stdout",
          "output_type": "stream",
          "text": [
            "16.657174151150056\n"
          ]
        },
        {
          "metadata": {
            "tags": null
          },
          "name": "stderr",
          "output_type": "stream",
          "text": [
            "100%|██████████| 7819/7819 [03:01<00:00, 43.10it/s]\n",
            "100%|██████████| 913/913 [00:08<00:00, 102.57it/s]\n"
          ]
        },
        {
          "metadata": {
            "tags": null
          },
          "name": "stdout",
          "output_type": "stream",
          "text": [
            "17.02300109529025\n"
          ]
        },
        {
          "metadata": {
            "tags": null
          },
          "name": "stderr",
          "output_type": "stream",
          "text": [
            "100%|██████████| 7819/7819 [03:01<00:00, 43.06it/s]\n",
            "100%|██████████| 913/913 [00:09<00:00, 99.45it/s] \n"
          ]
        },
        {
          "metadata": {
            "tags": null
          },
          "name": "stdout",
          "output_type": "stream",
          "text": [
            "17.236582694414018\n"
          ]
        },
        {
          "metadata": {
            "tags": null
          },
          "name": "stderr",
          "output_type": "stream",
          "text": [
            "100%|██████████| 7819/7819 [03:02<00:00, 42.92it/s]\n",
            "100%|██████████| 913/913 [00:11<00:00, 79.18it/s] \n"
          ]
        },
        {
          "metadata": {
            "tags": null
          },
          "name": "stdout",
          "output_type": "stream",
          "text": [
            "17.387732749178532\n"
          ]
        },
        {
          "metadata": {
            "tags": null
          },
          "name": "stderr",
          "output_type": "stream",
          "text": [
            "100%|██████████| 7819/7819 [03:02<00:00, 42.87it/s]\n",
            "100%|██████████| 913/913 [00:08<00:00, 101.89it/s]\n"
          ]
        },
        {
          "metadata": {
            "tags": null
          },
          "name": "stdout",
          "output_type": "stream",
          "text": [
            "17.568455640744798\n"
          ]
        },
        {
          "metadata": {
            "tags": null
          },
          "name": "stderr",
          "output_type": "stream",
          "text": [
            "100%|██████████| 7819/7819 [03:01<00:00, 43.03it/s]\n",
            "100%|██████████| 913/913 [00:08<00:00, 101.68it/s]\n"
          ]
        },
        {
          "metadata": {
            "tags": null
          },
          "name": "stdout",
          "output_type": "stream",
          "text": [
            "17.753559693318728\n"
          ]
        },
        {
          "metadata": {
            "tags": null
          },
          "name": "stderr",
          "output_type": "stream",
          "text": [
            "100%|██████████| 7819/7819 [03:02<00:00, 42.93it/s]\n",
            "100%|██████████| 913/913 [00:08<00:00, 102.33it/s]\n"
          ]
        },
        {
          "metadata": {
            "tags": null
          },
          "name": "stdout",
          "output_type": "stream",
          "text": [
            "17.872946330777655\n"
          ]
        },
        {
          "metadata": {
            "tags": null
          },
          "name": "stderr",
          "output_type": "stream",
          "text": [
            "100%|██████████| 7819/7819 [03:02<00:00, 42.91it/s]\n",
            "100%|██████████| 913/913 [00:09<00:00, 99.45it/s] \n"
          ]
        },
        {
          "metadata": {
            "tags": null
          },
          "name": "stdout",
          "output_type": "stream",
          "text": [
            "18.026286966046\n"
          ]
        },
        {
          "metadata": {
            "tags": null
          },
          "name": "stderr",
          "output_type": "stream",
          "text": [
            "100%|██████████| 7819/7819 [03:03<00:00, 42.53it/s]\n",
            "100%|██████████| 913/913 [00:08<00:00, 101.47it/s]\n"
          ]
        },
        {
          "metadata": {
            "tags": null
          },
          "name": "stdout",
          "output_type": "stream",
          "text": [
            "18.086527929901425\n"
          ]
        },
        {
          "metadata": {
            "tags": null
          },
          "name": "stderr",
          "output_type": "stream",
          "text": [
            "100%|██████████| 7819/7819 [03:01<00:00, 43.00it/s]\n",
            "100%|██████████| 913/913 [00:08<00:00, 102.05it/s]\n"
          ]
        },
        {
          "metadata": {
            "tags": null
          },
          "name": "stdout",
          "output_type": "stream",
          "text": [
            "18.178532311062433\n"
          ]
        },
        {
          "metadata": {
            "tags": null
          },
          "name": "stderr",
          "output_type": "stream",
          "text": [
            "100%|██████████| 7819/7819 [03:02<00:00, 42.84it/s]\n",
            "100%|██████████| 913/913 [00:09<00:00, 98.55it/s]\n"
          ]
        },
        {
          "metadata": {
            "tags": null
          },
          "name": "stdout",
          "output_type": "stream",
          "text": [
            "18.323110624315444\n"
          ]
        },
        {
          "metadata": {
            "tags": null
          },
          "name": "stderr",
          "output_type": "stream",
          "text": [
            "100%|██████████| 7819/7819 [03:03<00:00, 42.70it/s]\n",
            "100%|██████████| 913/913 [00:09<00:00, 99.72it/s]\n"
          ]
        },
        {
          "metadata": {
            "tags": null
          },
          "name": "stdout",
          "output_type": "stream",
          "text": [
            "18.350492880613363\n"
          ]
        },
        {
          "metadata": {
            "tags": null
          },
          "name": "stderr",
          "output_type": "stream",
          "text": [
            "100%|██████████| 7819/7819 [03:02<00:00, 42.77it/s]\n",
            "100%|██████████| 913/913 [00:09<00:00, 98.94it/s] \n"
          ]
        },
        {
          "metadata": {
            "tags": null
          },
          "name": "stdout",
          "output_type": "stream",
          "text": [
            "18.373493975903614\n"
          ]
        },
        {
          "metadata": {
            "tags": null
          },
          "name": "stderr",
          "output_type": "stream",
          "text": [
            "100%|██████████| 7819/7819 [03:05<00:00, 42.24it/s]\n",
            "100%|██████████| 913/913 [00:09<00:00, 100.25it/s]\n"
          ]
        },
        {
          "metadata": {
            "tags": null
          },
          "name": "stdout",
          "output_type": "stream",
          "text": [
            "18.337349397590362\n"
          ]
        },
        {
          "metadata": {
            "tags": null
          },
          "name": "stderr",
          "output_type": "stream",
          "text": [
            "100%|██████████| 7819/7819 [03:02<00:00, 42.84it/s]\n",
            "100%|██████████| 913/913 [00:08<00:00, 102.67it/s]\n"
          ]
        },
        {
          "metadata": {
            "tags": null
          },
          "name": "stdout",
          "output_type": "stream",
          "text": [
            "18.522453450164292\n"
          ]
        },
        {
          "metadata": {
            "tags": null
          },
          "name": "stderr",
          "output_type": "stream",
          "text": [
            "100%|██████████| 7819/7819 [03:02<00:00, 42.87it/s]\n",
            "100%|██████████| 913/913 [00:09<00:00, 100.91it/s]\n"
          ]
        },
        {
          "metadata": {
            "tags": null
          },
          "name": "stdout",
          "output_type": "stream",
          "text": [
            "18.50273822562979\n"
          ]
        },
        {
          "metadata": {
            "tags": null
          },
          "name": "stderr",
          "output_type": "stream",
          "text": [
            "100%|██████████| 7819/7819 [03:02<00:00, 42.91it/s]\n",
            "100%|██████████| 913/913 [00:08<00:00, 101.75it/s]\n"
          ]
        },
        {
          "metadata": {
            "tags": null
          },
          "name": "stdout",
          "output_type": "stream",
          "text": [
            "18.56407447973713\n"
          ]
        },
        {
          "metadata": {
            "tags": null
          },
          "name": "stderr",
          "output_type": "stream",
          "text": [
            "100%|██████████| 7819/7819 [03:04<00:00, 42.31it/s]\n",
            "100%|██████████| 913/913 [00:08<00:00, 102.14it/s]\n"
          ]
        },
        {
          "metadata": {
            "tags": null
          },
          "name": "stdout",
          "output_type": "stream",
          "text": [
            "18.57064622124863\n"
          ]
        },
        {
          "metadata": {
            "tags": null
          },
          "name": "stderr",
          "output_type": "stream",
          "text": [
            "100%|██████████| 7819/7819 [03:01<00:00, 43.02it/s]\n",
            "100%|██████████| 913/913 [00:08<00:00, 102.20it/s]\n"
          ]
        },
        {
          "metadata": {
            "tags": null
          },
          "name": "stdout",
          "output_type": "stream",
          "text": [
            "18.700985761226725\n"
          ]
        },
        {
          "metadata": {
            "tags": null
          },
          "name": "stderr",
          "output_type": "stream",
          "text": [
            "100%|██████████| 7819/7819 [03:02<00:00, 42.94it/s]\n",
            "100%|██████████| 913/913 [00:09<00:00, 101.17it/s]\n"
          ]
        },
        {
          "metadata": {
            "tags": null
          },
          "name": "stdout",
          "output_type": "stream",
          "text": [
            "18.690032858707557\n"
          ]
        },
        {
          "metadata": {
            "tags": null
          },
          "name": "stderr",
          "output_type": "stream",
          "text": [
            "100%|██████████| 7819/7819 [03:02<00:00, 42.80it/s]\n",
            "100%|██████████| 913/913 [00:09<00:00, 96.69it/s]\n"
          ]
        },
        {
          "metadata": {
            "tags": null
          },
          "name": "stdout",
          "output_type": "stream",
          "text": [
            "18.740416210295727\n"
          ]
        },
        {
          "metadata": {
            "tags": null
          },
          "name": "stderr",
          "output_type": "stream",
          "text": [
            "100%|██████████| 7819/7819 [03:04<00:00, 42.48it/s]\n",
            "100%|██████████| 913/913 [00:09<00:00, 101.37it/s]\n"
          ]
        },
        {
          "metadata": {
            "tags": null
          },
          "name": "stdout",
          "output_type": "stream",
          "text": [
            "18.707557502738226\n"
          ]
        },
        {
          "metadata": {
            "tags": null
          },
          "name": "stderr",
          "output_type": "stream",
          "text": [
            "100%|██████████| 7819/7819 [03:05<00:00, 42.23it/s]\n",
            "100%|██████████| 913/913 [00:09<00:00, 101.06it/s]\n"
          ]
        },
        {
          "metadata": {
            "tags": null
          },
          "name": "stdout",
          "output_type": "stream",
          "text": [
            "18.856516976998904\n"
          ]
        },
        {
          "metadata": {
            "tags": null
          },
          "name": "stderr",
          "output_type": "stream",
          "text": [
            "100%|██████████| 7819/7819 [03:02<00:00, 42.77it/s]\n",
            "100%|██████████| 913/913 [00:09<00:00, 99.03it/s]\n"
          ]
        },
        {
          "metadata": {
            "tags": null
          },
          "name": "stdout",
          "output_type": "stream",
          "text": [
            "18.717415115005476\n"
          ]
        },
        {
          "metadata": {
            "tags": null
          },
          "name": "stderr",
          "output_type": "stream",
          "text": [
            "100%|██████████| 7819/7819 [03:02<00:00, 42.76it/s]\n",
            "100%|██████████| 913/913 [00:08<00:00, 101.85it/s]\n"
          ]
        },
        {
          "metadata": {
            "tags": null
          },
          "name": "stdout",
          "output_type": "stream",
          "text": [
            "18.802847754654984\n"
          ]
        },
        {
          "metadata": {
            "tags": null
          },
          "name": "stderr",
          "output_type": "stream",
          "text": [
            "100%|██████████| 7819/7819 [03:01<00:00, 43.07it/s]\n",
            "100%|██████████| 913/913 [00:09<00:00, 101.21it/s]\n"
          ]
        },
        {
          "metadata": {
            "tags": null
          },
          "name": "stdout",
          "output_type": "stream",
          "text": [
            "18.733844468784227\n"
          ]
        },
        {
          "metadata": {
            "tags": null
          },
          "name": "stderr",
          "output_type": "stream",
          "text": [
            "100%|██████████| 7819/7819 [03:01<00:00, 43.06it/s]\n",
            "100%|██████████| 913/913 [00:11<00:00, 78.66it/s] \n"
          ]
        },
        {
          "metadata": {
            "tags": null
          },
          "name": "stdout",
          "output_type": "stream",
          "text": [
            "21.266155531215773\n"
          ]
        },
        {
          "metadata": {
            "tags": null
          },
          "name": "stderr",
          "output_type": "stream",
          "text": [
            "100%|██████████| 7819/7819 [03:02<00:00, 42.86it/s]\n",
            "100%|██████████| 913/913 [00:09<00:00, 100.75it/s]\n"
          ]
        },
        {
          "metadata": {
            "tags": null
          },
          "name": "stdout",
          "output_type": "stream",
          "text": [
            "21.43921139101862\n"
          ]
        },
        {
          "metadata": {
            "tags": null
          },
          "name": "stderr",
          "output_type": "stream",
          "text": [
            "100%|██████████| 7819/7819 [03:02<00:00, 42.76it/s]\n",
            "100%|██████████| 913/913 [00:09<00:00, 98.68it/s]\n"
          ]
        },
        {
          "metadata": {
            "tags": null
          },
          "name": "stdout",
          "output_type": "stream",
          "text": [
            "21.55312157721796\n"
          ]
        },
        {
          "metadata": {
            "tags": null
          },
          "name": "stderr",
          "output_type": "stream",
          "text": [
            "100%|██████████| 7819/7819 [03:03<00:00, 42.55it/s]\n",
            "100%|██████████| 913/913 [00:09<00:00, 100.39it/s]\n"
          ]
        },
        {
          "metadata": {
            "tags": null
          },
          "name": "stdout",
          "output_type": "stream",
          "text": [
            "21.585980284775466\n"
          ]
        },
        {
          "metadata": {
            "tags": null
          },
          "name": "stderr",
          "output_type": "stream",
          "text": [
            "100%|██████████| 7819/7819 [03:03<00:00, 42.68it/s]\n",
            "100%|██████████| 913/913 [00:09<00:00, 100.50it/s]\n"
          ]
        },
        {
          "metadata": {
            "tags": null
          },
          "name": "stdout",
          "output_type": "stream",
          "text": [
            "21.613362541073386\n"
          ]
        },
        {
          "metadata": {
            "tags": null
          },
          "name": "stderr",
          "output_type": "stream",
          "text": [
            "100%|██████████| 7819/7819 [03:05<00:00, 42.17it/s]\n",
            "100%|██████████| 913/913 [00:09<00:00, 99.02it/s]\n"
          ]
        },
        {
          "metadata": {
            "tags": null
          },
          "name": "stdout",
          "output_type": "stream",
          "text": [
            "21.59802847754655\n"
          ]
        },
        {
          "metadata": {
            "tags": null
          },
          "name": "stderr",
          "output_type": "stream",
          "text": [
            "100%|██████████| 7819/7819 [03:04<00:00, 42.38it/s]\n",
            "100%|██████████| 913/913 [00:09<00:00, 97.93it/s]\n"
          ]
        },
        {
          "metadata": {
            "tags": null
          },
          "name": "stdout",
          "output_type": "stream",
          "text": [
            "21.558598028477547\n"
          ]
        },
        {
          "metadata": {
            "tags": null
          },
          "name": "stderr",
          "output_type": "stream",
          "text": [
            "100%|██████████| 7819/7819 [03:03<00:00, 42.53it/s]\n",
            "100%|██████████| 913/913 [00:09<00:00, 98.19it/s]\n"
          ]
        },
        {
          "metadata": {
            "tags": null
          },
          "name": "stdout",
          "output_type": "stream",
          "text": [
            "21.5815991237678\n"
          ]
        },
        {
          "metadata": {
            "tags": null
          },
          "name": "stderr",
          "output_type": "stream",
          "text": [
            "100%|██████████| 7819/7819 [03:02<00:00, 42.81it/s]\n",
            "100%|██████████| 913/913 [00:09<00:00, 98.89it/s]\n"
          ]
        },
        {
          "metadata": {
            "tags": null
          },
          "name": "stdout",
          "output_type": "stream",
          "text": [
            "21.55640744797371\n"
          ]
        },
        {
          "metadata": {
            "tags": null
          },
          "name": "stderr",
          "output_type": "stream",
          "text": [
            "100%|██████████| 7819/7819 [03:03<00:00, 42.67it/s]\n",
            "100%|██████████| 913/913 [00:09<00:00, 100.34it/s]\n"
          ]
        },
        {
          "metadata": {
            "tags": null
          },
          "name": "stdout",
          "output_type": "stream",
          "text": [
            "21.58050383351588\n"
          ]
        },
        {
          "metadata": {
            "tags": null
          },
          "name": "stderr",
          "output_type": "stream",
          "text": [
            "100%|██████████| 7819/7819 [03:06<00:00, 41.88it/s]\n",
            "100%|██████████| 913/913 [00:09<00:00, 97.60it/s]\n"
          ]
        },
        {
          "metadata": {
            "tags": null
          },
          "name": "stdout",
          "output_type": "stream",
          "text": [
            "21.545454545454547\n"
          ]
        },
        {
          "metadata": {
            "tags": null
          },
          "name": "stderr",
          "output_type": "stream",
          "text": [
            "100%|██████████| 7819/7819 [03:04<00:00, 42.47it/s]\n",
            "100%|██████████| 913/913 [00:09<00:00, 96.59it/s]\n"
          ]
        },
        {
          "metadata": {
            "tags": null
          },
          "name": "stdout",
          "output_type": "stream",
          "text": [
            "21.55969331872946\n"
          ]
        },
        {
          "metadata": {
            "tags": null
          },
          "name": "stderr",
          "output_type": "stream",
          "text": [
            "100%|██████████| 7819/7819 [03:04<00:00, 42.38it/s]\n",
            "100%|██████████| 913/913 [00:09<00:00, 96.61it/s]\n"
          ]
        },
        {
          "metadata": {
            "tags": null
          },
          "name": "stdout",
          "output_type": "stream",
          "text": [
            "21.5815991237678\n"
          ]
        },
        {
          "metadata": {
            "tags": null
          },
          "name": "stderr",
          "output_type": "stream",
          "text": [
            "100%|██████████| 7819/7819 [03:03<00:00, 42.57it/s]\n",
            "100%|██████████| 913/913 [00:09<00:00, 97.44it/s]\n"
          ]
        },
        {
          "metadata": {
            "tags": null
          },
          "name": "stdout",
          "output_type": "stream",
          "text": [
            "21.58488499452355\n"
          ]
        },
        {
          "metadata": {
            "tags": null
          },
          "name": "stderr",
          "output_type": "stream",
          "text": [
            "100%|██████████| 7819/7819 [03:07<00:00, 41.75it/s]\n",
            "100%|██████████| 913/913 [00:09<00:00, 98.46it/s]\n"
          ]
        },
        {
          "metadata": {
            "tags": null
          },
          "name": "stdout",
          "output_type": "stream",
          "text": [
            "21.552026286966047\n"
          ]
        },
        {
          "metadata": {
            "tags": null
          },
          "name": "stderr",
          "output_type": "stream",
          "text": [
            "100%|██████████| 7819/7819 [03:04<00:00, 42.36it/s]\n",
            "100%|██████████| 913/913 [00:09<00:00, 96.54it/s]\n"
          ]
        },
        {
          "metadata": {
            "tags": null
          },
          "name": "stdout",
          "output_type": "stream",
          "text": [
            "21.59145673603505\n"
          ]
        },
        {
          "metadata": {
            "tags": null
          },
          "name": "stderr",
          "output_type": "stream",
          "text": [
            "100%|██████████| 7819/7819 [03:04<00:00, 42.39it/s]\n",
            "100%|██████████| 913/913 [00:09<00:00, 99.30it/s]\n"
          ]
        },
        {
          "metadata": {
            "tags": null
          },
          "name": "stdout",
          "output_type": "stream",
          "text": [
            "21.53997809419496\n"
          ]
        },
        {
          "metadata": {
            "tags": null
          },
          "name": "stderr",
          "output_type": "stream",
          "text": [
            "100%|██████████| 7819/7819 [03:03<00:00, 42.51it/s]\n",
            "100%|██████████| 913/913 [00:09<00:00, 97.45it/s]\n"
          ]
        },
        {
          "metadata": {
            "tags": null
          },
          "name": "stdout",
          "output_type": "stream",
          "text": [
            "21.57064622124863\n"
          ]
        },
        {
          "metadata": {
            "tags": null
          },
          "name": "stderr",
          "output_type": "stream",
          "text": [
            "100%|██████████| 7819/7819 [03:04<00:00, 42.48it/s]\n",
            "100%|██████████| 913/913 [00:09<00:00, 96.78it/s]\n"
          ]
        },
        {
          "metadata": {
            "tags": null
          },
          "name": "stdout",
          "output_type": "stream",
          "text": [
            "21.54654983570646\n"
          ]
        },
        {
          "metadata": {
            "tags": null
          },
          "name": "stderr",
          "output_type": "stream",
          "text": [
            "100%|██████████| 7819/7819 [03:06<00:00, 41.86it/s]\n",
            "100%|██████████| 913/913 [00:09<00:00, 97.61it/s]\n"
          ]
        },
        {
          "metadata": {
            "tags": null
          },
          "name": "stdout",
          "output_type": "stream",
          "text": [
            "21.548740416210297\n"
          ]
        },
        {
          "metadata": {
            "tags": null
          },
          "name": "stderr",
          "output_type": "stream",
          "text": [
            "100%|██████████| 7819/7819 [03:03<00:00, 42.56it/s]\n",
            "100%|██████████| 913/913 [00:09<00:00, 99.26it/s]\n"
          ]
        },
        {
          "metadata": {
            "tags": null
          },
          "name": "stdout",
          "output_type": "stream",
          "text": [
            "21.562979189485212\n"
          ]
        },
        {
          "metadata": {
            "tags": null
          },
          "name": "stderr",
          "output_type": "stream",
          "text": [
            "100%|██████████| 7819/7819 [03:04<00:00, 42.42it/s]\n",
            "100%|██████████| 913/913 [00:09<00:00, 97.24it/s]\n"
          ]
        },
        {
          "metadata": {
            "tags": null
          },
          "name": "stdout",
          "output_type": "stream",
          "text": [
            "21.562979189485212\n"
          ]
        },
        {
          "metadata": {
            "tags": null
          },
          "name": "stderr",
          "output_type": "stream",
          "text": [
            "100%|██████████| 7819/7819 [03:04<00:00, 42.48it/s]\n",
            "100%|██████████| 913/913 [00:09<00:00, 96.81it/s]\n"
          ]
        },
        {
          "metadata": {
            "tags": null
          },
          "name": "stdout",
          "output_type": "stream",
          "text": [
            "21.518072289156628\n"
          ]
        },
        {
          "metadata": {
            "tags": null
          },
          "name": "stderr",
          "output_type": "stream",
          "text": [
            "100%|██████████| 7819/7819 [03:06<00:00, 41.82it/s]\n",
            "100%|██████████| 913/913 [00:11<00:00, 76.23it/s]\n"
          ]
        },
        {
          "metadata": {
            "tags": null
          },
          "name": "stdout",
          "output_type": "stream",
          "text": [
            "21.53450164293538\n"
          ]
        },
        {
          "metadata": {
            "tags": null
          },
          "name": "stderr",
          "output_type": "stream",
          "text": [
            "100%|██████████| 7819/7819 [03:05<00:00, 42.25it/s]\n",
            "100%|██████████| 913/913 [00:09<00:00, 97.78it/s]\n"
          ]
        },
        {
          "metadata": {
            "tags": null
          },
          "name": "stdout",
          "output_type": "stream",
          "text": [
            "21.53997809419496\n"
          ]
        },
        {
          "metadata": {
            "tags": null
          },
          "name": "stderr",
          "output_type": "stream",
          "text": [
            "100%|██████████| 7819/7819 [03:03<00:00, 42.50it/s]\n",
            "100%|██████████| 913/913 [00:09<00:00, 97.16it/s]\n"
          ]
        },
        {
          "metadata": {
            "tags": null
          },
          "name": "stdout",
          "output_type": "stream",
          "text": [
            "21.52354874041621\n"
          ]
        },
        {
          "metadata": {
            "tags": null
          },
          "name": "stderr",
          "output_type": "stream",
          "text": [
            "100%|██████████| 7819/7819 [03:03<00:00, 42.61it/s]\n",
            "100%|██████████| 913/913 [00:09<00:00, 99.51it/s]\n"
          ]
        },
        {
          "metadata": {
            "tags": null
          },
          "name": "stdout",
          "output_type": "stream",
          "text": [
            "21.44687842278204\n"
          ]
        },
        {
          "metadata": {
            "tags": null
          },
          "name": "stderr",
          "output_type": "stream",
          "text": [
            "100%|██████████| 7819/7819 [03:04<00:00, 42.36it/s]\n",
            "100%|██████████| 913/913 [00:09<00:00, 98.09it/s]\n"
          ]
        },
        {
          "metadata": {
            "tags": null
          },
          "name": "stdout",
          "output_type": "stream",
          "text": [
            "21.441401971522453\n"
          ]
        },
        {
          "metadata": {
            "tags": null
          },
          "name": "stderr",
          "output_type": "stream",
          "text": [
            "100%|██████████| 7819/7819 [03:07<00:00, 41.70it/s]\n",
            "100%|██████████| 913/913 [00:09<00:00, 96.19it/s]\n"
          ]
        },
        {
          "metadata": {
            "tags": null
          },
          "name": "stdout",
          "output_type": "stream",
          "text": [
            "21.3855421686747\n"
          ]
        },
        {
          "metadata": {
            "tags": null
          },
          "name": "stderr",
          "output_type": "stream",
          "text": [
            "100%|██████████| 7819/7819 [03:04<00:00, 42.28it/s]\n",
            "100%|██████████| 913/913 [00:09<00:00, 97.64it/s]\n"
          ]
        },
        {
          "metadata": {
            "tags": null
          },
          "name": "stdout",
          "output_type": "stream",
          "text": [
            "21.349397590361445\n"
          ]
        },
        {
          "metadata": {
            "tags": null
          },
          "name": "stderr",
          "output_type": "stream",
          "text": [
            "100%|██████████| 7819/7819 [03:04<00:00, 42.33it/s]\n",
            "100%|██████████| 913/913 [00:09<00:00, 95.67it/s]\n"
          ]
        },
        {
          "metadata": {
            "tags": null
          },
          "name": "stdout",
          "output_type": "stream",
          "text": [
            "21.848849945235486\n"
          ]
        },
        {
          "metadata": {
            "tags": null
          },
          "name": "stderr",
          "output_type": "stream",
          "text": [
            "100%|██████████| 7819/7819 [03:04<00:00, 42.42it/s]\n",
            "100%|██████████| 913/913 [00:09<00:00, 97.13it/s]\n"
          ]
        },
        {
          "metadata": {
            "tags": null
          },
          "name": "stdout",
          "output_type": "stream",
          "text": [
            "21.960569550930998\n"
          ]
        },
        {
          "metadata": {
            "tags": null
          },
          "name": "stderr",
          "output_type": "stream",
          "text": [
            "100%|██████████| 7819/7819 [03:04<00:00, 42.31it/s]\n",
            "100%|██████████| 913/913 [00:09<00:00, 98.18it/s]\n"
          ]
        },
        {
          "metadata": {
            "tags": null
          },
          "name": "stdout",
          "output_type": "stream",
          "text": [
            "22.02738225629792\n"
          ]
        },
        {
          "metadata": {
            "tags": null
          },
          "name": "stderr",
          "output_type": "stream",
          "text": [
            "100%|██████████| 7819/7819 [03:08<00:00, 41.56it/s]\n",
            "100%|██████████| 913/913 [00:09<00:00, 98.51it/s]\n"
          ]
        },
        {
          "metadata": {
            "tags": null
          },
          "name": "stdout",
          "output_type": "stream",
          "text": [
            "22.05366922234392\n"
          ]
        },
        {
          "metadata": {
            "tags": null
          },
          "name": "stderr",
          "output_type": "stream",
          "text": [
            "100%|██████████| 7819/7819 [03:04<00:00, 42.39it/s]\n",
            "100%|██████████| 913/913 [00:09<00:00, 99.16it/s]\n"
          ]
        },
        {
          "metadata": {
            "tags": null
          },
          "name": "stdout",
          "output_type": "stream",
          "text": [
            "22.072289156626507\n"
          ]
        },
        {
          "metadata": {
            "tags": null
          },
          "name": "stderr",
          "output_type": "stream",
          "text": [
            "100%|██████████| 7819/7819 [03:04<00:00, 42.47it/s]\n",
            "100%|██████████| 913/913 [00:09<00:00, 99.14it/s]\n"
          ]
        },
        {
          "metadata": {
            "tags": null
          },
          "name": "stdout",
          "output_type": "stream",
          "text": [
            "22.06790799561884\n"
          ]
        },
        {
          "metadata": {
            "tags": null
          },
          "name": "stderr",
          "output_type": "stream",
          "text": [
            "100%|██████████| 7819/7819 [03:04<00:00, 42.47it/s]\n",
            "100%|██████████| 913/913 [00:09<00:00, 98.12it/s]\n"
          ]
        },
        {
          "metadata": {
            "tags": null
          },
          "name": "stdout",
          "output_type": "stream",
          "text": [
            "22.04709748083242\n"
          ]
        },
        {
          "metadata": {
            "tags": null
          },
          "name": "stderr",
          "output_type": "stream",
          "text": [
            "100%|██████████| 7819/7819 [03:06<00:00, 41.86it/s]\n",
            "100%|██████████| 913/913 [00:09<00:00, 99.78it/s]\n"
          ]
        },
        {
          "metadata": {
            "tags": null
          },
          "name": "stdout",
          "output_type": "stream",
          "text": [
            "22.039430449069002\n"
          ]
        },
        {
          "metadata": {
            "tags": null
          },
          "name": "stderr",
          "output_type": "stream",
          "text": [
            "100%|██████████| 7819/7819 [03:04<00:00, 42.31it/s]\n",
            "100%|██████████| 913/913 [00:09<00:00, 97.32it/s]\n"
          ]
        },
        {
          "metadata": {
            "tags": null
          },
          "name": "stdout",
          "output_type": "stream",
          "text": [
            "22.035049288061337\n"
          ]
        },
        {
          "metadata": {
            "tags": null
          },
          "name": "stderr",
          "output_type": "stream",
          "text": [
            "100%|██████████| 7819/7819 [03:04<00:00, 42.44it/s]\n",
            "100%|██████████| 913/913 [00:09<00:00, 100.16it/s]\n"
          ]
        },
        {
          "metadata": {
            "tags": null
          },
          "name": "stdout",
          "output_type": "stream",
          "text": [
            "22.052573932092006\n"
          ]
        },
        {
          "metadata": {
            "tags": null
          },
          "name": "stderr",
          "output_type": "stream",
          "text": [
            "100%|██████████| 7819/7819 [03:03<00:00, 42.70it/s]\n",
            "100%|██████████| 913/913 [00:09<00:00, 97.42it/s]\n"
          ]
        },
        {
          "metadata": {
            "tags": null
          },
          "name": "stdout",
          "output_type": "stream",
          "text": [
            "22.059145673603506\n"
          ]
        },
        {
          "metadata": {
            "tags": null
          },
          "name": "stderr",
          "output_type": "stream",
          "text": [
            "100%|██████████| 7819/7819 [03:04<00:00, 42.46it/s]\n",
            "100%|██████████| 913/913 [00:09<00:00, 98.42it/s]\n"
          ]
        },
        {
          "metadata": {
            "tags": null
          },
          "name": "stdout",
          "output_type": "stream",
          "text": [
            "22.038335158817087\n"
          ]
        },
        {
          "metadata": {
            "tags": null
          },
          "name": "stderr",
          "output_type": "stream",
          "text": [
            "100%|██████████| 7819/7819 [03:05<00:00, 42.05it/s]\n",
            "100%|██████████| 913/913 [00:09<00:00, 99.50it/s] \n"
          ]
        },
        {
          "metadata": {
            "tags": null
          },
          "name": "stdout",
          "output_type": "stream",
          "text": [
            "22.038335158817087\n"
          ]
        },
        {
          "metadata": {
            "tags": null
          },
          "name": "stderr",
          "output_type": "stream",
          "text": [
            "100%|██████████| 7819/7819 [03:02<00:00, 42.93it/s]\n",
            "100%|██████████| 913/913 [00:09<00:00, 100.70it/s]\n"
          ]
        },
        {
          "metadata": {
            "tags": null
          },
          "name": "stdout",
          "output_type": "stream",
          "text": [
            "22.028477546549837\n"
          ]
        },
        {
          "metadata": {
            "tags": null
          },
          "name": "stderr",
          "output_type": "stream",
          "text": [
            "100%|██████████| 7819/7819 [03:02<00:00, 42.75it/s]\n",
            "100%|██████████| 913/913 [00:09<00:00, 100.55it/s]\n"
          ]
        },
        {
          "metadata": {
            "tags": null
          },
          "name": "stdout",
          "output_type": "stream",
          "text": [
            "22.01423877327492\n"
          ]
        },
        {
          "metadata": {
            "tags": null
          },
          "name": "stderr",
          "output_type": "stream",
          "text": [
            "100%|██████████| 7819/7819 [03:02<00:00, 42.83it/s]\n",
            "100%|██████████| 913/913 [00:09<00:00, 100.98it/s]\n"
          ]
        },
        {
          "metadata": {
            "tags": null
          },
          "name": "stdout",
          "output_type": "stream",
          "text": [
            "22.002190580503832\n"
          ]
        },
        {
          "metadata": {
            "tags": null
          },
          "name": "stderr",
          "output_type": "stream",
          "text": [
            "100%|██████████| 7819/7819 [03:06<00:00, 42.00it/s]\n",
            "100%|██████████| 913/913 [00:09<00:00, 97.94it/s]\n"
          ]
        },
        {
          "metadata": {
            "tags": null
          },
          "name": "stdout",
          "output_type": "stream",
          "text": [
            "21.997809419496168\n"
          ]
        },
        {
          "metadata": {
            "tags": null
          },
          "name": "stderr",
          "output_type": "stream",
          "text": [
            "100%|██████████| 7819/7819 [03:04<00:00, 42.41it/s]\n",
            "100%|██████████| 913/913 [00:09<00:00, 96.12it/s]\n"
          ]
        },
        {
          "metadata": {
            "tags": null
          },
          "name": "stdout",
          "output_type": "stream",
          "text": [
            "21.987951807228917\n"
          ]
        },
        {
          "metadata": {
            "tags": null
          },
          "name": "stderr",
          "output_type": "stream",
          "text": [
            "100%|██████████| 7819/7819 [03:04<00:00, 42.31it/s]\n",
            "100%|██████████| 913/913 [00:09<00:00, 99.85it/s] \n"
          ]
        },
        {
          "metadata": {
            "tags": null
          },
          "name": "stdout",
          "output_type": "stream",
          "text": [
            "21.978094194961663\n"
          ]
        },
        {
          "metadata": {
            "tags": null
          },
          "name": "stderr",
          "output_type": "stream",
          "text": [
            "100%|██████████| 7819/7819 [03:05<00:00, 42.14it/s]\n",
            "100%|██████████| 913/913 [00:09<00:00, 98.30it/s]\n"
          ]
        },
        {
          "metadata": {
            "tags": null
          },
          "name": "stdout",
          "output_type": "stream",
          "text": [
            "21.96933187294633\n"
          ]
        },
        {
          "metadata": {
            "tags": null
          },
          "name": "stderr",
          "output_type": "stream",
          "text": [
            "100%|██████████| 7819/7819 [03:04<00:00, 42.32it/s]\n",
            "100%|██████████| 913/913 [00:09<00:00, 99.16it/s]\n"
          ]
        },
        {
          "metadata": {
            "tags": null
          },
          "name": "stdout",
          "output_type": "stream",
          "text": [
            "21.947426067907994\n"
          ]
        },
        {
          "output_type": "stream",
          "name": "stderr",
          "text": [
            "100%|██████████| 7819/7819 [03:09<00:00, 41.27it/s]\n",
            "100%|██████████| 913/913 [00:09<00:00, 96.60it/s]\n"
          ]
        },
        {
          "output_type": "stream",
          "name": "stdout",
          "text": [
            "21.93209200438116\n"
          ]
        },
        {
          "output_type": "stream",
          "name": "stderr",
          "text": [
            "100%|██████████| 7819/7819 [03:06<00:00, 41.82it/s]\n",
            "100%|██████████| 913/913 [00:09<00:00, 95.73it/s]\n"
          ]
        },
        {
          "output_type": "stream",
          "name": "stdout",
          "text": [
            "21.91237677984666\n"
          ]
        },
        {
          "output_type": "stream",
          "name": "stderr",
          "text": [
            "100%|██████████| 7819/7819 [03:07<00:00, 41.70it/s]\n",
            "100%|██████████| 913/913 [00:09<00:00, 97.08it/s]\n"
          ]
        },
        {
          "output_type": "stream",
          "name": "stdout",
          "text": [
            "21.91566265060241\n"
          ]
        },
        {
          "output_type": "stream",
          "name": "stderr",
          "text": [
            "100%|██████████| 7819/7819 [03:07<00:00, 41.69it/s]\n",
            "100%|██████████| 913/913 [00:09<00:00, 97.25it/s]\n"
          ]
        },
        {
          "output_type": "stream",
          "name": "stdout",
          "text": [
            "21.89923329682366\n"
          ]
        },
        {
          "output_type": "stream",
          "name": "stderr",
          "text": [
            "100%|██████████| 7819/7819 [03:09<00:00, 41.35it/s]\n",
            "100%|██████████| 913/913 [00:09<00:00, 95.37it/s]\n"
          ]
        },
        {
          "output_type": "stream",
          "name": "stdout",
          "text": [
            "21.89594742606791\n"
          ]
        },
        {
          "output_type": "stream",
          "name": "stderr",
          "text": [
            "100%|██████████| 7819/7819 [03:12<00:00, 40.53it/s]\n",
            "100%|██████████| 913/913 [00:10<00:00, 90.24it/s]\n"
          ]
        },
        {
          "output_type": "stream",
          "name": "stdout",
          "text": [
            "21.88937568455641\n"
          ]
        },
        {
          "output_type": "stream",
          "name": "stderr",
          "text": [
            "100%|██████████| 7819/7819 [03:09<00:00, 41.27it/s]\n",
            "100%|██████████| 913/913 [00:09<00:00, 94.54it/s]\n"
          ]
        },
        {
          "output_type": "stream",
          "name": "stdout",
          "text": [
            "21.870755750273823\n"
          ]
        },
        {
          "output_type": "stream",
          "name": "stderr",
          "text": [
            "100%|██████████| 7819/7819 [03:10<00:00, 41.13it/s]\n",
            "100%|██████████| 913/913 [00:09<00:00, 94.56it/s]\n"
          ]
        },
        {
          "output_type": "stream",
          "name": "stdout",
          "text": [
            "21.859802847754654\n"
          ]
        },
        {
          "output_type": "stream",
          "name": "stderr",
          "text": [
            "100%|██████████| 7819/7819 [03:08<00:00, 41.39it/s]\n",
            "100%|██████████| 913/913 [00:09<00:00, 96.83it/s]\n"
          ]
        },
        {
          "output_type": "stream",
          "name": "stdout",
          "text": [
            "21.830230010952903\n"
          ]
        },
        {
          "output_type": "stream",
          "name": "stderr",
          "text": [
            "100%|██████████| 7819/7819 [03:09<00:00, 41.16it/s]\n",
            "100%|██████████| 913/913 [00:09<00:00, 96.97it/s]\n"
          ]
        },
        {
          "output_type": "stream",
          "name": "stdout",
          "text": [
            "21.859802847754654\n"
          ]
        },
        {
          "output_type": "stream",
          "name": "stderr",
          "text": [
            "100%|██████████| 7819/7819 [03:07<00:00, 41.76it/s]\n",
            "100%|██████████| 913/913 [00:09<00:00, 97.13it/s]\n"
          ]
        },
        {
          "output_type": "stream",
          "name": "stdout",
          "text": [
            "21.86199342825849\n"
          ]
        },
        {
          "output_type": "stream",
          "name": "stderr",
          "text": [
            "100%|██████████| 7819/7819 [03:08<00:00, 41.39it/s]\n",
            "100%|██████████| 913/913 [00:09<00:00, 95.24it/s]\n"
          ]
        },
        {
          "output_type": "stream",
          "name": "stdout",
          "text": [
            "21.859802847754654\n"
          ]
        },
        {
          "output_type": "stream",
          "name": "stderr",
          "text": [
            "100%|██████████| 7819/7819 [03:08<00:00, 41.37it/s]\n",
            "100%|██████████| 913/913 [00:09<00:00, 93.93it/s]\n"
          ]
        },
        {
          "output_type": "stream",
          "name": "stdout",
          "text": [
            "21.869660460021905\n"
          ]
        },
        {
          "output_type": "stream",
          "name": "stderr",
          "text": [
            "100%|██████████| 7819/7819 [03:09<00:00, 41.21it/s]\n",
            "100%|██████████| 913/913 [00:10<00:00, 91.25it/s]\n"
          ]
        },
        {
          "output_type": "stream",
          "name": "stdout",
          "text": [
            "21.870755750273823\n"
          ]
        },
        {
          "output_type": "stream",
          "name": "stderr",
          "text": [
            "100%|██████████| 7819/7819 [03:13<00:00, 40.36it/s]\n",
            "100%|██████████| 913/913 [00:09<00:00, 94.77it/s]\n"
          ]
        },
        {
          "output_type": "stream",
          "name": "stdout",
          "text": [
            "21.87513691128149\n"
          ]
        },
        {
          "output_type": "stream",
          "name": "stderr",
          "text": [
            "100%|██████████| 7819/7819 [03:09<00:00, 41.27it/s]\n",
            "100%|██████████| 913/913 [00:09<00:00, 93.20it/s]\n"
          ]
        },
        {
          "output_type": "stream",
          "name": "stdout",
          "text": [
            "21.872946330777655\n"
          ]
        },
        {
          "output_type": "stream",
          "name": "stderr",
          "text": [
            "100%|██████████| 7819/7819 [03:10<00:00, 41.07it/s]\n",
            "100%|██████████| 913/913 [00:09<00:00, 94.41it/s]\n"
          ]
        },
        {
          "output_type": "stream",
          "name": "stdout",
          "text": [
            "21.876232201533405\n"
          ]
        },
        {
          "output_type": "stream",
          "name": "stderr",
          "text": [
            "100%|██████████| 7819/7819 [03:10<00:00, 41.04it/s]\n",
            "100%|██████████| 913/913 [00:09<00:00, 96.80it/s]\n"
          ]
        },
        {
          "output_type": "stream",
          "name": "stdout",
          "text": [
            "21.876232201533405\n"
          ]
        },
        {
          "output_type": "stream",
          "name": "stderr",
          "text": [
            "100%|██████████| 7819/7819 [03:07<00:00, 41.62it/s]\n",
            "100%|██████████| 913/913 [00:09<00:00, 94.84it/s]\n"
          ]
        },
        {
          "output_type": "stream",
          "name": "stdout",
          "text": [
            "21.874041621029573\n",
            "[12.874041621029573, 14.012048192771084, 15.364731653888281, 16.207009857612267, 16.657174151150056, 17.02300109529025, 17.236582694414018, 17.387732749178532, 17.568455640744798, 17.753559693318728, 17.872946330777655, 18.026286966046, 18.086527929901425, 18.178532311062433, 18.323110624315444, 18.350492880613363, 18.373493975903614, 18.337349397590362, 18.522453450164292, 18.50273822562979, 18.56407447973713, 18.57064622124863, 18.700985761226725, 18.690032858707557, 18.740416210295727, 18.707557502738226, 18.856516976998904, 18.717415115005476, 18.802847754654984, 18.733844468784227, 21.266155531215773, 21.43921139101862, 21.55312157721796, 21.585980284775466, 21.613362541073386, 21.59802847754655, 21.558598028477547, 21.5815991237678, 21.55640744797371, 21.58050383351588, 21.545454545454547, 21.55969331872946, 21.5815991237678, 21.58488499452355, 21.552026286966047, 21.59145673603505, 21.53997809419496, 21.57064622124863, 21.54654983570646, 21.548740416210297, 21.562979189485212, 21.562979189485212, 21.518072289156628, 21.53450164293538, 21.53997809419496, 21.52354874041621, 21.44687842278204, 21.441401971522453, 21.3855421686747, 21.349397590361445, 21.848849945235486, 21.960569550930998, 22.02738225629792, 22.05366922234392, 22.072289156626507, 22.06790799561884, 22.04709748083242, 22.039430449069002, 22.035049288061337, 22.052573932092006, 22.059145673603506, 22.038335158817087, 22.038335158817087, 22.028477546549837, 22.01423877327492, 22.002190580503832, 21.997809419496168, 21.987951807228917, 21.978094194961663, 21.96933187294633, 21.947426067907994, 21.93209200438116, 21.91237677984666, 21.91566265060241, 21.89923329682366, 21.89594742606791, 21.88937568455641, 21.870755750273823, 21.859802847754654, 21.830230010952903, 21.859802847754654, 21.86199342825849, 21.859802847754654, 21.869660460021905, 21.870755750273823, 21.87513691128149, 21.872946330777655, 21.876232201533405, 21.876232201533405, 21.874041621029573] [0, 0, 0, 0, 0, 0, 0, 0, 0, 0, 0, 0, 0, 0, 0, 0, 0, 0, 0, 0, 0, 0, 0, 0, 0, 0, 0, 0, 0, 0, 0, 0, 0, 0, 0, 0, 0, 0, 0, 0, 0, 0, 0, 0, 0, 0, 0, 0, 0, 0, 0, 0, 0, 0, 0, 0, 0, 0, 0, 0, 0, 0, 0, 0, 0, 0, 0, 0, 0, 0, 0, 0, 0, 0, 0, 0, 0, 0, 0, 0, 0, 0, 0, 0, 0, 0, 0, 0, 0, 0, 0, 0, 0, 0, 0, 0, 0, 0, 0, 0]\n",
            "Maximum test set accuracy: 22.072289156626507\n",
            "Minimum loss: 3.896307144314622\n"
          ]
        },
        {
          "output_type": "display_data",
          "data": {
            "image/png": "[encoded data removed]",
            "text/plain": [
              "<Figure size 432x288 with 1 Axes>"
            ]
          },
          "metadata": {
            "needs_background": "light"
          }
        }
      ],
      "source": [
        "test_accs, top_k_accs, losses, best_model, best_acc, test_loader = train(args) \n",
        "\n",
        "print(test_accs, top_k_accs)\n",
        "print(\"Maximum test set accuracy: {0}\".format(max(test_accs)))\n",
        "print(\"Minimum loss: {0}\".format(min(losses)))\n",
        "\n",
        "# plt.title(dataset.name)\n",
        "plt.plot(losses, label=\"training loss\" + \" - \")\n",
        "plt.plot(test_accs, label=\"test accuracy\" + \" - \")\n",
        "plt.legend()\n",
        "plt.show()"
      ]
    },
    {
      "cell_type": "markdown",
      "metadata": {
        "id": "bEg5LDYoAkun"
      },
      "source": [
        "# 🧪 Evaluation"
      ]
    },
    {
      "cell_type": "code",
      "source": [
        "# Save the best model\n",
        "torch.save(best_model.state_dict(), 'model')"
      ],
      "metadata": {
        "id": "9rTB4_lI1Ocg"
      },
      "execution_count": null,
      "outputs": []
    },
    {
      "cell_type": "code",
      "execution_count": null,
      "metadata": {
        "id": "ZzE_ft8UAmz0",
        "colab": {
          "base_uri": "https://localhost:8080/"
        },
        "outputId": "a8b08430-93e0-4b39-f0e4-7416824f2e24"
      },
      "outputs": [
        {
          "output_type": "stream",
          "name": "stderr",
          "text": [
            "Processing...\n",
            "Done!\n",
            "/usr/local/lib/python3.7/dist-packages/torch_geometric/deprecation.py:13: UserWarning: 'data.DataLoader' is deprecated, use 'loader.DataLoader' instead\n",
            "  warnings.warn(out)\n",
            "  0%|          | 0/968 [00:00<?, ?it/s]/usr/local/lib/python3.7/dist-packages/torch/nn/functional.py:1806: UserWarning: nn.functional.sigmoid is deprecated. Use torch.sigmoid instead.\n",
            "  warnings.warn(\"nn.functional.sigmoid is deprecated. Use torch.sigmoid instead.\")\n",
            "100%|██████████| 968/968 [20:17<00:00,  1.26s/it]\n"
          ]
        },
        {
          "output_type": "execute_result",
          "data": {
            "text/plain": [
              "(21.510330578512395, 50.03615702479339)"
            ]
          },
          "metadata": {},
          "execution_count": 25
        }
      ],
      "source": [
        "# Run test for our best model to save the predictions!\n",
        "test_dataset = GraphDataset('./', 'test')\n",
        "test_loader = pyg_data.DataLoader(test_dataset,\n",
        "                                  batch_size=args.batch_size,\n",
        "                                  shuffle=False,\n",
        "                                  drop_last=True)\n",
        "\n",
        "test(test_loader, best_model, is_validation=False, save_model_preds=True)"
      ]
    },
    {
      "cell_type": "code",
      "execution_count": null,
      "metadata": {
        "id": "pwth9Q4TJiNs"
      },
      "outputs": [],
      "source": [
        ""
      ]
    }
  ],
  "metadata": {
    "accelerator": "GPU",
    "colab": {
      "collapsed_sections": [],
      "name": "Buy This!: Session-based Recommendation Using SR-GNN.ipynb",
      "provenance": []
    },
    "kernelspec": {
      "display_name": "Python 3",
      "name": "python3"
    },
    "language_info": {
      "name": "python"
    }
  },
  "nbformat": 4,
  "nbformat_minor": 0
}